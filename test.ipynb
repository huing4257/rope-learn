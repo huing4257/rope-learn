{
 "cells": [
  {
   "cell_type": "code",
   "execution_count": null,
   "metadata": {},
   "outputs": [],
   "source": [
    "import torch\n",
    "import rope\n",
    "from rotary_embedding_torch import RotaryEmbedding"
   ]
  },
  {
   "cell_type": "code",
   "execution_count": null,
   "metadata": {},
   "outputs": [],
   "source": [
    "q_cpu = torch.ones(1,1,2,64)\n",
    "q_cuda = torch.ones(2, 1, 64).cuda()\n",
    "rotary_emb = RotaryEmbedding(dim = 64)\n",
    "q_1 = rotary_emb.rotate_queries_or_keys(torch.ones(1,1,2,64))\n",
    "q_2 = rope.ops.rotary_pos_encoding(q_cuda)\n",
    "print(q_1[0,0,1,:],'\\n', q_2[1,0,:])"
   ]
  }
 ],
 "metadata": {
  "kernelspec": {
   "display_name": ".venv",
   "language": "python",
   "name": "python3"
  },
  "language_info": {
   "codemirror_mode": {
    "name": "ipython",
    "version": 3
   },
   "file_extension": ".py",
   "mimetype": "text/x-python",
   "name": "python",
   "nbconvert_exporter": "python",
   "pygments_lexer": "ipython3",
   "version": "3.10.12"
  }
 },
 "nbformat": 4,
 "nbformat_minor": 2
}
