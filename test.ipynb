{
 "cells": [
  {
   "cell_type": "code",
   "execution_count": 1,
   "metadata": {},
   "outputs": [
    {
     "name": "stderr",
     "output_type": "stream",
     "text": [
      "/root/epfs/rope-learn/.venv/lib/python3.10/site-packages/torch/_subclasses/functional_tensor.py:258: UserWarning: Failed to initialize NumPy: No module named 'numpy' (Triggered internally at ../torch/csrc/utils/tensor_numpy.cpp:84.)\n",
      "  cpu = _conversion_method_template(device=torch.device(\"cpu\"))\n"
     ]
    }
   ],
   "source": [
    "import torch\n",
    "import rope"
   ]
  },
  {
   "cell_type": "code",
   "execution_count": 2,
   "metadata": {},
   "outputs": [
    {
     "name": "stderr",
     "output_type": "stream",
     "text": [
      "/root/epfs/rope-learn/.venv/lib/python3.10/site-packages/_distutils_hack/__init__.py:54: UserWarning: Reliance on distutils from stdlib is deprecated. Users must rely on setuptools to provide the distutils module. Avoid importing distutils or import setuptools first, and avoid setting SETUPTOOLS_USE_DISTUTILS=stdlib. Register concerns at https://github.com/pypa/setuptools/issues/new?template=distutils-deprecation.yml\n",
      "  warnings.warn(\n"
     ]
    },
    {
     "name": "stdout",
     "output_type": "stream",
     "text": [
      "tensor([-0.3012,  1.3818,  0.0502,  1.4133,  0.3128,  1.3792,  0.5031,  1.3217,\n",
      "         0.6394,  1.2614,  0.7371,  1.2069,  0.8073,  1.1611,  0.8582,  1.1241,\n",
      "         0.8952,  1.0948,  0.9223,  1.0721,  0.9422,  1.0546,  0.9570,  1.0413,\n",
      "         0.9679,  1.0311,  0.9760,  1.0234,  0.9821,  1.0176,  0.9866,  1.0132,\n",
      "         0.9900,  1.0099,  0.9925,  1.0075,  0.9944,  1.0056,  0.9958,  1.0042,\n",
      "         0.9968,  1.0032,  0.9976,  1.0024,  0.9982,  1.0018,  0.9987,  1.0013,\n",
      "         0.9990,  1.0010,  0.9992,  1.0007,  0.9994,  1.0006,  0.9996,  1.0004,\n",
      "         0.9997,  1.0003,  0.9998,  1.0002,  0.9998,  1.0002,  0.9999,  1.0001]) \n",
      " tensor([0.0502, 1.4133, 0.3128, 1.3792, 0.5031, 1.3217, 0.6394, 1.2614, 0.7371,\n",
      "        1.2069, 0.8073, 1.1611, 0.8582, 1.1241, 0.8952, 1.0948, 0.9223, 1.0721,\n",
      "        0.9422, 1.0546, 0.9570, 1.0413, 0.9679, 1.0311, 0.9760, 1.0234, 0.9821,\n",
      "        1.0176, 0.9866, 1.0132, 0.9900, 1.0099, 0.9925, 1.0075, 0.9944, 1.0056,\n",
      "        0.9958, 1.0042, 0.9968, 1.0032, 0.9976, 1.0024, 0.9982, 1.0018, 0.9987,\n",
      "        1.0013, 0.9990, 1.0010, 0.9992, 1.0007, 0.9994, 1.0006, 0.9996, 1.0004,\n",
      "        0.9997, 1.0003, 0.9998, 1.0002, 0.9998, 1.0002, 0.9999, 1.0001, 0.9999,\n",
      "        1.0001], device='cuda:0')\n"
     ]
    }
   ],
   "source": [
    "q_cuda = torch.ones(2, 1, 64).cuda()\n",
    "q_2 = rope.ops.rotary_pos_encoding(q_cuda)\n",
    "print(q_2[1,0,:])"
   ]
  },
  {
   "cell_type": "code",
   "execution_count": 32,
   "metadata": {},
   "outputs": [
    {
     "name": "stdout",
     "output_type": "stream",
     "text": [
      "1.3791775501957306 0.31284067036768504\n"
     ]
    }
   ],
   "source": [
    "import math\n",
    "theta = pow(10000.0, - 4 / 64)\n",
    "print(  math.cos(theta)+ math.sin(theta ), math.cos(theta ) - math.sin(theta ))"
   ]
  }
 ],
 "metadata": {
  "kernelspec": {
   "display_name": ".venv",
   "language": "python",
   "name": "python3"
  },
  "language_info": {
   "codemirror_mode": {
    "name": "ipython",
    "version": 3
   },
   "file_extension": ".py",
   "mimetype": "text/x-python",
   "name": "python",
   "nbconvert_exporter": "python",
   "pygments_lexer": "ipython3",
   "version": "3.10.12"
  }
 },
 "nbformat": 4,
 "nbformat_minor": 2
}
